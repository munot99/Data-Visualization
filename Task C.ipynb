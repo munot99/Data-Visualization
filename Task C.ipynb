{
 "cells": [
  {
   "cell_type": "raw",
   "id": "8c1afec5",
   "metadata": {},
   "source": [
    "---\n",
    "title: \"Task C\"\n",
    "author: \"Pranav\"\n",
    "date: \"28/03/2022\"\n",
    "output: html_document\n",
    "---"
   ]
  },
  {
   "cell_type": "markdown",
   "id": "c9c3e1a3",
   "metadata": {},
   "source": []
  },
  {
   "cell_type": "markdown",
   "id": "9f7649bc",
   "metadata": {},
   "source": [
    "Disclaimer : This is the R Markdown File for the Task C for the final project."
   ]
  },
  {
   "cell_type": "code",
   "execution_count": null,
   "id": "54dd491f",
   "metadata": {
    "name": "setup"
   },
   "outputs": [],
   "source": [
    "\n",
    "rm(list = ls())\n",
    "getwd()\n",
    "library(\"dplyr\")\n",
    "library(ggplot2)\n",
    "library(ggthemes)\n",
    "library(ggpubr)\n",
    "setwd(\"D:\\\\BSE\\\\BSE Material\\\\sem 2\\\\Data Vis\\\\Project\")"
   ]
  },
  {
   "cell_type": "markdown",
   "id": "a64d2084",
   "metadata": {},
   "source": [
    "C1. Examine the house prices for 2015. How do these change over time? Do property prices seem to increase or decrease throughout the year?\n",
    "\n",
    "Ans: The questions wants us to see the see if month plays a factor in price of properties in the UK. To visualize this trend we need to filter years belonging to year 2015. To help understand if there is a relationship between time of the year and price we further break down our dataset and add a subcategory of Quarters based on months. Like any financial document, we break the months in Quarterst starting from 1. The Quarters start from  the month of January. As there can be externalities in the data which might not allows us to visualize the results we create a variable called upper limit which takes the vlaues till the second standard deviation of the price distribution. "
   ]
  },
  {
   "cell_type": "code",
   "execution_count": null,
   "id": "b9672ee5",
   "metadata": {
    "name": "pressure",
    "tags": [
     "remove_input"
    ]
   },
   "outputs": [],
   "source": [
    "pp_data <- read.csv(\"ppdata_lite.csv\")\n",
    "Monthly <-  pp_data%>%\n",
    "  mutate(year= format(as.Date(date_of_transfer, format = \"%Y-%m-%d\"),\"%Y\"),\n",
    "    month = format(as.Date(date_of_transfer, format = \"%Y-%m-%d\" ),\"%m\"))\n",
    "\n",
    "  \n",
    "Monthly <- Monthly%>%\n",
    "  mutate(quarters = case_when(month %in% sprintf(\"%02d\", 1:3)~\"Q1\",\n",
    "                               month %in% sprintf(\"%02d\", 4:6)~\"Q2\",\n",
    "                               month %in% sprintf(\"%02d\", 7:9)~\"Q3\",\n",
    "                               month %in% seq(10,12,1)~\"Q4\"\n",
    "                               ))\n",
    "upper_limit = mean(Monthly$price) + 2 * sd(Monthly$price)"
   ]
  },
  {
   "cell_type": "markdown",
   "id": "38665d5c",
   "metadata": {},
   "source": [
    "We filter the data using the upper limit set. "
   ]
  },
  {
   "cell_type": "code",
   "execution_count": null,
   "id": "64838063",
   "metadata": {
    "name": "Filtering"
   },
   "outputs": [],
   "source": [
    "plot_data <- Monthly %>% \n",
    "  filter(year == 2015)%>%\n",
    "  arrange(month)%>%\n",
    "  filter(!price>upper_limit)%>%\n",
    "  group_by(month,quarters)%>%\n",
    "  summarize(mean_price = mean(price),\n",
    "            median_price = median(price),.groups= \"keep\")\n",
    "head(plot_data)"
   ]
  },
  {
   "cell_type": "markdown",
   "id": "dd760782",
   "metadata": {},
   "source": [
    "We then plot the trend data using both mean and median price values. This would allow us to get a better idea. A difference in mean and median would further clarify if there is any skewness in our data. "
   ]
  },
  {
   "cell_type": "code",
   "execution_count": null,
   "id": "514637aa",
   "metadata": {
    "name": "Plot"
   },
   "outputs": [],
   "source": [
    "\n",
    "month_plot_mean <- ggplot(plot_data,aes(x= month, y = mean_price)) + \n",
    "  geom_point(aes(colour= quarters))+geom_path(aes(group = 1,color = quarters))+xlab(\"Months\")+ylab(\"Prices\")+\n",
    "  ggtitle(\"Mean Price Change in 2015\")+scale_colour_discrete(\"Quarters\")+theme_pander()\n",
    "\n",
    "\n",
    "month_plot_median <- ggplot(plot_data,aes(x= month, y = median_price)) + \n",
    "  geom_point(aes(colour= quarters))+geom_path(aes(group = 1,color = quarters))+xlab(\"Months\")+ylab(\"Prices\")+\n",
    "  ggtitle(\"Median Price Change in 2015\")+scale_colour_discrete(\"Quarters\")+theme_pander()\n",
    "  \n",
    "\n",
    "figure <- ggarrange(month_plot_median,\n",
    "                    month_plot_mean,\n",
    "                    ncol = 1, nrow = 2)\n",
    "figure\n"
   ]
  },
  {
   "cell_type": "markdown",
   "id": "731b5d2b",
   "metadata": {},
   "source": [
    "Both Graphs indicate the same trend. Price are the lowest in the begging on the year with an drastic rise by the Q3(July-Sept). With the peak in August the prices reduce to the level which we could see at the beginning of July. This does indicate a trend in 2015. To add more weight to the argument that this trend is relevant it is good to observe the past trends for the same relationship between quarters."
   ]
  },
  {
   "cell_type": "code",
   "execution_count": null,
   "id": "153a59c7",
   "metadata": {
    "lines_to_next_cell": 0
   },
   "outputs": [],
   "source": [
    "\n",
    "plot_data_2 <- Monthly %>% \n",
    "  arrange(month)%>%\n",
    "  filter(!price>upper_limit)%>%\n",
    "  group_by(year,quarters)%>%\n",
    "  summarize(mean_price = mean(price),\n",
    "            median_price = median(price),.groups= \"keep\")\n",
    "head(plot_data_2)\n",
    "\n",
    "Quarter_plot_median <- ggplot(plot_data_2,aes(y= median_price, x = year))+\n",
    "  geom_line(aes(colour = quarters, group = quarters))+\n",
    "  scale_x_discrete(guide = guide_axis(angle = 45))+ylab(\"Prices\")+\n",
    "  ggtitle(\"Quarter trends\")+scale_colour_discrete(\"Quarters\")+\n",
    "  scale_y_continuous(breaks = round(seq(min(plot_data_2$median_price), max(plot_data_2$median_price), by = 25000),1))+\n",
    "  theme_pander()\n",
    "\n",
    "Quarter_plot_median "
   ]
  },
  {
   "cell_type": "markdown",
   "id": "f2bdda01",
   "metadata": {},
   "source": [
    "\n",
    " "
   ]
  },
  {
   "cell_type": "markdown",
   "id": "aff0977d",
   "metadata": {},
   "source": [
    "C2. Is there a significant relationship between the price of a property and the time of year it is sold? Does this vary with type of property?\n",
    "\n",
    "Ans : To understand if this relationship exist over the years we need to continue to use our main dataset with some changes. The dataset has 5 property types, Detached, Semi-Detached, Terraced ,Flats, Others. We now need to see how this relationship persesits over the years as well as to get a better idea we look at the data of 2015 as well. "
   ]
  },
  {
   "cell_type": "markdown",
   "id": "6ef2344c",
   "metadata": {},
   "source": [
    "Lets see the data between 2007-2016 for the different properties and how prices change with property types. We filter the data from 2007 to visualize other properties. "
   ]
  },
  {
   "cell_type": "code",
   "execution_count": null,
   "id": "af0b7a71",
   "metadata": {},
   "outputs": [],
   "source": [
    "plot_data_3 <- Monthly %>% \n",
    "  arrange(month)%>%\n",
    "  filter(!price>upper_limit,\n",
    "         year > 2006)%>%\n",
    "  mutate(property_type = case_when(property_type == \"D\" ~ \"Detached\",\n",
    "                                   property_type == \"S\" ~ \"Semi-Detached\",\n",
    "                                   property_type == \"F\" ~ \"Flats\",\n",
    "                                   property_type == \"T\" ~ \"Terraced\",\n",
    "                                   property_type == \"O\" ~ \"Other\"))%>%\n",
    "  group_by(year,property_type)%>%\n",
    "  summarize(mean_price = mean(price),\n",
    "            median_price = median(price),.groups= \"keep\")\n",
    "head(plot_data_3)\n",
    "\n",
    "Property_plot_median <- ggplot(plot_data_3,aes(y= median_price, x = year))+\n",
    "  geom_line(aes(colour = property_type, group = property_type))+\n",
    "  scale_x_discrete(guide = guide_axis(angle = 45))+ylab(\"Prices\")+\n",
    "  ggtitle(\"Property Type trends\")+scale_colour_discrete(\"Property Types\")+\n",
    "  scale_y_continuous(breaks = round(seq(min(plot_data_3$median_price), max(plot_data_3$median_price), by = 25000),1))\n",
    "Property_plot_median\n"
   ]
  },
  {
   "cell_type": "markdown",
   "id": "a8a4dfb7",
   "metadata": {},
   "source": [
    "As Other property seems to be a noise we further plot the time series data for the remaining properties and visualize the trend. "
   ]
  },
  {
   "cell_type": "code",
   "execution_count": null,
   "id": "46f3711e",
   "metadata": {},
   "outputs": [],
   "source": [
    "\n",
    "plot_data_3b <- Monthly %>% \n",
    "  arrange(month)%>%\n",
    "  filter(!price>upper_limit,\n",
    "         !property_type == 'O')%>%\n",
    "  mutate(property_type = case_when(property_type == \"D\" ~ \"Detached\",\n",
    "                                   property_type == \"S\" ~ \"Semi-Detached\",\n",
    "                                   property_type == \"F\" ~ \"Flats\",\n",
    "                                   property_type == \"T\" ~ \"Terraced\"))%>%\n",
    "  group_by(year,property_type)%>%\n",
    "  summarize(mean_price = mean(price),\n",
    "            median_price = median(price),.groups= \"keep\")\n",
    "\n",
    "head(plot_data_3b)\n",
    "\n",
    "Property_plot_median_b <- ggplot(plot_data_3b,aes(y= median_price, x = year))+\n",
    "  geom_line(aes(colour = property_type, group = property_type))+\n",
    "  scale_x_discrete(guide = guide_axis(angle = 90))+ylab(\"Prices\")+\n",
    "  ggtitle(\"Property Type trends\")+scale_colour_discrete(\"Property Types\")+\n",
    "  scale_y_continuous(breaks = round(seq(min(plot_data_3b$median_price), max(plot_data_3b$median_price), by = 25000),1))\n",
    "\n",
    "Property_plot_median_b "
   ]
  },
  {
   "cell_type": "markdown",
   "id": "9eb950d8",
   "metadata": {
    "lines_to_next_cell": 0
   },
   "source": [
    "We find that Detached properties are the costliest. Semi-Detached and Flats are valued simillarly with terrace properties being cheapest option. \n",
    "\n",
    "Combining our previous trend data that represented how different quarters (time of the year) effects price of property we can further try and see if how the prices of properties are effected througout the year. We again go select the year as 2015 to maining uniformity in our observation. "
   ]
  },
  {
   "cell_type": "code",
   "execution_count": null,
   "id": "c6d36590",
   "metadata": {},
   "outputs": [],
   "source": [
    "\n",
    "plot_data4 <- Monthly %>% \n",
    "  filter(year == 2015)%>%\n",
    "  mutate(property_type = case_when(property_type == \"D\" ~ \"Detached\",\n",
    "                                   property_type == \"S\" ~ \"Semi-Detached\",\n",
    "                                   property_type == \"F\" ~ \"Flats\",\n",
    "                                   property_type == \"T\" ~ \"Terraced\",\n",
    "                                   property_type == \"O\" ~ \"Other\"))%>%\n",
    "  arrange(month)%>%\n",
    "  filter(!price>upper_limit)%>%\n",
    "  group_by(month,quarters,property_type)%>%\n",
    "  summarize(mean_price = mean(price),\n",
    "            median_price = median(price),.groups= \"keep\")\n",
    "head(plot_data4)\n",
    "\n",
    "Property_quarters <- ggplot(plot_data4,aes(x= month, y = median_price)) + \n",
    "  geom_point(aes(colour= quarters))+geom_path(aes(group = 1,color = quarters))+xlab(\"Months\")+ylab(\"Prices\")+\n",
    "  ggtitle(\"Property Price Change in Quarters of 2015\")+scale_colour_discrete(\"Quarters\")+theme_pander()+\n",
    "  scale_x_discrete(labels=seq(1,12,1))+facet_wrap(~property_type)\n",
    "\n",
    "Property_quarters\n"
   ]
  },
  {
   "cell_type": "markdown",
   "id": "7da024b8",
   "metadata": {},
   "source": [
    "We can observe that flats are pretty stationary as compared to other properties with the most variations being in the properties that are not categorized. Moreover, Detached,Semi-Detached and Terraced find similar moments.\n"
   ]
  }
 ],
 "metadata": {
  "jupytext": {
   "cell_metadata_filter": "name,tags,-all",
   "main_language": "R",
   "notebook_metadata_filter": "-all"
  }
 },
 "nbformat": 4,
 "nbformat_minor": 5
}
