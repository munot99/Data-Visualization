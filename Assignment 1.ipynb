{
 "cells": [
  {
   "cell_type": "code",
   "execution_count": 2,
   "metadata": {},
   "outputs": [
    {
     "name": "stderr",
     "output_type": "stream",
     "text": [
      "-- \u001b[1mAttaching packages\u001b[22m ------------------------------------------------------------------------------- tidyverse 1.3.1 --\n",
      "\n",
      "\u001b[32mv\u001b[39m \u001b[34mggplot2\u001b[39m 3.3.5     \u001b[32mv\u001b[39m \u001b[34mpurrr  \u001b[39m 0.3.4\n",
      "\u001b[32mv\u001b[39m \u001b[34mtibble \u001b[39m 3.1.4     \u001b[32mv\u001b[39m \u001b[34mdplyr  \u001b[39m 1.0.7\n",
      "\u001b[32mv\u001b[39m \u001b[34mtidyr  \u001b[39m 1.1.4     \u001b[32mv\u001b[39m \u001b[34mstringr\u001b[39m 1.4.0\n",
      "\u001b[32mv\u001b[39m \u001b[34mreadr  \u001b[39m 2.1.1     \u001b[32mv\u001b[39m \u001b[34mforcats\u001b[39m 0.5.1\n",
      "\n",
      "-- \u001b[1mConflicts\u001b[22m ---------------------------------------------------------------------------------- tidyverse_conflicts() --\n",
      "\u001b[31mx\u001b[39m \u001b[34mdplyr\u001b[39m::\u001b[32mfilter()\u001b[39m masks \u001b[34mstats\u001b[39m::filter()\n",
      "\u001b[31mx\u001b[39m \u001b[34mdplyr\u001b[39m::\u001b[32mlag()\u001b[39m    masks \u001b[34mstats\u001b[39m::lag()\n",
      "\n",
      "\n",
      "Attaching package: 'scales'\n",
      "\n",
      "\n",
      "The following object is masked from 'package:purrr':\n",
      "\n",
      "    discard\n",
      "\n",
      "\n",
      "The following object is masked from 'package:readr':\n",
      "\n",
      "    col_factor\n",
      "\n",
      "\n"
     ]
    },
    {
     "data": {
      "text/plain": [
       "      year          month             day           dep_time    sched_dep_time\n",
       " Min.   :2013   Min.   : 1.000   Min.   : 1.00   Min.   :   1   Min.   : 106  \n",
       " 1st Qu.:2013   1st Qu.: 4.000   1st Qu.: 8.00   1st Qu.: 907   1st Qu.: 906  \n",
       " Median :2013   Median : 7.000   Median :16.00   Median :1401   Median :1359  \n",
       " Mean   :2013   Mean   : 6.549   Mean   :15.71   Mean   :1349   Mean   :1344  \n",
       " 3rd Qu.:2013   3rd Qu.:10.000   3rd Qu.:23.00   3rd Qu.:1744   3rd Qu.:1729  \n",
       " Max.   :2013   Max.   :12.000   Max.   :31.00   Max.   :2400   Max.   :2359  \n",
       "                                                 NA's   :8255                 \n",
       "   dep_delay          arr_time    sched_arr_time   arr_delay       \n",
       " Min.   : -43.00   Min.   :   1   Min.   :   1   Min.   : -86.000  \n",
       " 1st Qu.:  -5.00   1st Qu.:1104   1st Qu.:1124   1st Qu.: -17.000  \n",
       " Median :  -2.00   Median :1535   Median :1556   Median :  -5.000  \n",
       " Mean   :  12.64   Mean   :1502   Mean   :1536   Mean   :   6.895  \n",
       " 3rd Qu.:  11.00   3rd Qu.:1940   3rd Qu.:1945   3rd Qu.:  14.000  \n",
       " Max.   :1301.00   Max.   :2400   Max.   :2359   Max.   :1272.000  \n",
       " NA's   :8255      NA's   :8713                  NA's   :9430      \n",
       "   carrier              flight       tailnum             origin         \n",
       " Length:336776      Min.   :   1   Length:336776      Length:336776     \n",
       " Class :character   1st Qu.: 553   Class :character   Class :character  \n",
       " Mode  :character   Median :1496   Mode  :character   Mode  :character  \n",
       "                    Mean   :1972                                        \n",
       "                    3rd Qu.:3465                                        \n",
       "                    Max.   :8500                                        \n",
       "                                                                        \n",
       "     dest              air_time        distance         hour      \n",
       " Length:336776      Min.   : 20.0   Min.   :  17   Min.   : 1.00  \n",
       " Class :character   1st Qu.: 82.0   1st Qu.: 502   1st Qu.: 9.00  \n",
       " Mode  :character   Median :129.0   Median : 872   Median :13.00  \n",
       "                    Mean   :150.7   Mean   :1040   Mean   :13.18  \n",
       "                    3rd Qu.:192.0   3rd Qu.:1389   3rd Qu.:17.00  \n",
       "                    Max.   :695.0   Max.   :4983   Max.   :23.00  \n",
       "                    NA's   :9430                                  \n",
       "     minute        time_hour                  \n",
       " Min.   : 0.00   Min.   :2013-01-01 05:00:00  \n",
       " 1st Qu.: 8.00   1st Qu.:2013-04-04 13:00:00  \n",
       " Median :29.00   Median :2013-07-03 10:00:00  \n",
       " Mean   :26.23   Mean   :2013-07-03 05:22:54  \n",
       " 3rd Qu.:44.00   3rd Qu.:2013-10-01 07:00:00  \n",
       " Max.   :59.00   Max.   :2013-12-31 23:00:00  \n",
       "                                              "
      ]
     },
     "metadata": {},
     "output_type": "display_data"
    },
    {
     "data": {
      "text/html": [
       "<style>\n",
       ".list-inline {list-style: none; margin:0; padding: 0}\n",
       ".list-inline>li {display: inline-block}\n",
       ".list-inline>li:not(:last-child)::after {content: \"\\00b7\"; padding: 0 .5ex}\n",
       "</style>\n",
       "<ol class=list-inline><li>'year'</li><li>'month'</li><li>'day'</li><li>'dep_time'</li><li>'sched_dep_time'</li><li>'dep_delay'</li><li>'arr_time'</li><li>'sched_arr_time'</li><li>'arr_delay'</li><li>'carrier'</li><li>'flight'</li><li>'tailnum'</li><li>'origin'</li><li>'dest'</li><li>'air_time'</li><li>'distance'</li><li>'hour'</li><li>'minute'</li><li>'time_hour'</li></ol>\n"
      ],
      "text/latex": [
       "\\begin{enumerate*}\n",
       "\\item 'year'\n",
       "\\item 'month'\n",
       "\\item 'day'\n",
       "\\item 'dep\\_time'\n",
       "\\item 'sched\\_dep\\_time'\n",
       "\\item 'dep\\_delay'\n",
       "\\item 'arr\\_time'\n",
       "\\item 'sched\\_arr\\_time'\n",
       "\\item 'arr\\_delay'\n",
       "\\item 'carrier'\n",
       "\\item 'flight'\n",
       "\\item 'tailnum'\n",
       "\\item 'origin'\n",
       "\\item 'dest'\n",
       "\\item 'air\\_time'\n",
       "\\item 'distance'\n",
       "\\item 'hour'\n",
       "\\item 'minute'\n",
       "\\item 'time\\_hour'\n",
       "\\end{enumerate*}\n"
      ],
      "text/markdown": [
       "1. 'year'\n",
       "2. 'month'\n",
       "3. 'day'\n",
       "4. 'dep_time'\n",
       "5. 'sched_dep_time'\n",
       "6. 'dep_delay'\n",
       "7. 'arr_time'\n",
       "8. 'sched_arr_time'\n",
       "9. 'arr_delay'\n",
       "10. 'carrier'\n",
       "11. 'flight'\n",
       "12. 'tailnum'\n",
       "13. 'origin'\n",
       "14. 'dest'\n",
       "15. 'air_time'\n",
       "16. 'distance'\n",
       "17. 'hour'\n",
       "18. 'minute'\n",
       "19. 'time_hour'\n",
       "\n",
       "\n"
      ],
      "text/plain": [
       " [1] \"year\"           \"month\"          \"day\"            \"dep_time\"      \n",
       " [5] \"sched_dep_time\" \"dep_delay\"      \"arr_time\"       \"sched_arr_time\"\n",
       " [9] \"arr_delay\"      \"carrier\"        \"flight\"         \"tailnum\"       \n",
       "[13] \"origin\"         \"dest\"           \"air_time\"       \"distance\"      \n",
       "[17] \"hour\"           \"minute\"         \"time_hour\"     "
      ]
     },
     "metadata": {},
     "output_type": "display_data"
    },
    {
     "data": {
      "text/html": [
       "<style>\n",
       ".list-inline {list-style: none; margin:0; padding: 0}\n",
       ".list-inline>li {display: inline-block}\n",
       ".list-inline>li:not(:last-child)::after {content: \"\\00b7\"; padding: 0 .5ex}\n",
       "</style>\n",
       "<ol class=list-inline><li>336776</li><li>19</li></ol>\n"
      ],
      "text/latex": [
       "\\begin{enumerate*}\n",
       "\\item 336776\n",
       "\\item 19\n",
       "\\end{enumerate*}\n"
      ],
      "text/markdown": [
       "1. 336776\n",
       "2. 19\n",
       "\n",
       "\n"
      ],
      "text/plain": [
       "[1] 336776     19"
      ]
     },
     "metadata": {},
     "output_type": "display_data"
    }
   ],
   "source": [
    "library(\"nycflights13\")\n",
    "library(\"tidyverse\")\n",
    "library(scales)\n",
    "flights <- nycflights13::flights\n",
    "summary(flights)\n",
    "colnames(flights)\n",
    "dim(flights)\n"
   ]
  },
  {
   "cell_type": "markdown",
   "metadata": {},
   "source": [
    "1.a\n"
   ]
  },
  {
   "cell_type": "code",
   "execution_count": null,
   "metadata": {},
   "outputs": [],
   "source": [
    "arr2 <- filter(flights,arr_delay >= 120)\n",
    "head(arr2,5)\n"
   ]
  },
  {
   "cell_type": "markdown",
   "metadata": {},
   "source": [
    "1.b\n"
   ]
  },
  {
   "cell_type": "code",
   "execution_count": null,
   "metadata": {},
   "outputs": [],
   "source": [
    "houston <- filter(flights,dest == c('IAH','HOU'))\n",
    "head(houston,5)\n"
   ]
  },
  {
   "cell_type": "markdown",
   "metadata": {},
   "source": [
    "1.c\n"
   ]
  },
  {
   "cell_type": "code",
   "execution_count": null,
   "metadata": {},
   "outputs": [],
   "source": [
    "airlines\n",
    "operated <- filter(flights,carrier ==c('AA' ,'DL', 'UA'))\n",
    "head(operated,5)\n"
   ]
  },
  {
   "cell_type": "markdown",
   "metadata": {},
   "source": [
    "1.d\n"
   ]
  },
  {
   "cell_type": "code",
   "execution_count": null,
   "metadata": {},
   "outputs": [],
   "source": [
    "summer <- filter(flights,month ==c(7,8,9))\n",
    "head(summer,5)\n"
   ]
  },
  {
   "cell_type": "markdown",
   "metadata": {},
   "source": [
    "1.e\n"
   ]
  },
  {
   "cell_type": "code",
   "execution_count": null,
   "metadata": {},
   "outputs": [],
   "source": [
    "late_arr <- filter(flights , arr_delay > 120 , dep_delay == 0)\n",
    "head(late_arr,5)\n"
   ]
  },
  {
   "cell_type": "markdown",
   "metadata": {},
   "source": [
    "1.f\n"
   ]
  },
  {
   "cell_type": "code",
   "execution_count": null,
   "metadata": {},
   "outputs": [],
   "source": [
    "Dep60<-flights %>%\n",
    "  filter(arr_delay == dep_delay - 30) %>%\n",
    "  filter(dep_delay > 120)\n",
    "head(Dep60,5)\n"
   ]
  },
  {
   "cell_type": "markdown",
   "metadata": {},
   "source": [
    "2.a  How many flights have a missing dep_time?\n"
   ]
  },
  {
   "cell_type": "code",
   "execution_count": 25,
   "metadata": {},
   "outputs": [
    {
     "data": {
      "text/html": [
       "8255"
      ],
      "text/latex": [
       "8255"
      ],
      "text/markdown": [
       "8255"
      ],
      "text/plain": [
       "[1] 8255"
      ]
     },
     "metadata": {},
     "output_type": "display_data"
    },
    {
     "name": "stdout",
     "output_type": "stream",
     "text": [
      "[1] \"8255 flights with missing variable\"\n"
     ]
    }
   ],
   "source": [
    "sum(is.na(flights$dep_time))\n",
    "\n",
    "print(paste0(sum(is.na(flights$dep_time)),\" \",\"flights with missing departure time\"))\n"
   ]
  },
  {
   "cell_type": "markdown",
   "metadata": {},
   "source": [
    "2.b\n",
    "What other variables are missing? What might these rows represent?"
   ]
  },
  {
   "cell_type": "code",
   "execution_count": 42,
   "metadata": {},
   "outputs": [
    {
     "data": {
      "text/html": [
       "<style>\n",
       ".list-inline {list-style: none; margin:0; padding: 0}\n",
       ".list-inline>li {display: inline-block}\n",
       ".list-inline>li:not(:last-child)::after {content: \"\\00b7\"; padding: 0 .5ex}\n",
       "</style>\n",
       "<ol class=list-inline><li>'dep_time'</li><li>'dep_delay'</li><li>'arr_time'</li><li>'arr_delay'</li><li>'tailnum'</li><li>'air_time'</li></ol>\n"
      ],
      "text/latex": [
       "\\begin{enumerate*}\n",
       "\\item 'dep\\_time'\n",
       "\\item 'dep\\_delay'\n",
       "\\item 'arr\\_time'\n",
       "\\item 'arr\\_delay'\n",
       "\\item 'tailnum'\n",
       "\\item 'air\\_time'\n",
       "\\end{enumerate*}\n"
      ],
      "text/markdown": [
       "1. 'dep_time'\n",
       "2. 'dep_delay'\n",
       "3. 'arr_time'\n",
       "4. 'arr_delay'\n",
       "5. 'tailnum'\n",
       "6. 'air_time'\n",
       "\n",
       "\n"
      ],
      "text/plain": [
       "[1] \"dep_time\"  \"dep_delay\" \"arr_time\"  \"arr_delay\" \"tailnum\"   \"air_time\" "
      ]
     },
     "metadata": {},
     "output_type": "display_data"
    },
    {
     "name": "stdout",
     "output_type": "stream",
     "text": [
      "[1] \"these variables might have missing values as the fligt data does not exist to rescheduling or cancelled flights\"\n"
     ]
    }
   ],
   "source": [
    "names(which(colSums(is.na(flights)) > 0))\n",
    "\n",
    "print(\"these variables might have missing values as the fligt data does not exist to rescheduling or cancelled flights\")"
   ]
  },
  {
   "cell_type": "markdown",
   "metadata": {},
   "source": [
    "3\n"
   ]
  },
  {
   "cell_type": "code",
   "execution_count": 46,
   "metadata": {},
   "outputs": [
    {
     "data": {
      "text/html": [
       "<table class=\"dataframe\">\n",
       "<caption>A tibble: 5 × 19</caption>\n",
       "<thead>\n",
       "\t<tr><th scope=col>year</th><th scope=col>month</th><th scope=col>day</th><th scope=col>dep_time</th><th scope=col>sched_dep_time</th><th scope=col>dep_delay</th><th scope=col>arr_time</th><th scope=col>sched_arr_time</th><th scope=col>arr_delay</th><th scope=col>carrier</th><th scope=col>flight</th><th scope=col>tailnum</th><th scope=col>origin</th><th scope=col>dest</th><th scope=col>air_time</th><th scope=col>distance</th><th scope=col>hour</th><th scope=col>minute</th><th scope=col>time_hour</th></tr>\n",
       "\t<tr><th scope=col>&lt;int&gt;</th><th scope=col>&lt;int&gt;</th><th scope=col>&lt;int&gt;</th><th scope=col>&lt;int&gt;</th><th scope=col>&lt;int&gt;</th><th scope=col>&lt;dbl&gt;</th><th scope=col>&lt;int&gt;</th><th scope=col>&lt;int&gt;</th><th scope=col>&lt;dbl&gt;</th><th scope=col>&lt;chr&gt;</th><th scope=col>&lt;int&gt;</th><th scope=col>&lt;chr&gt;</th><th scope=col>&lt;chr&gt;</th><th scope=col>&lt;chr&gt;</th><th scope=col>&lt;dbl&gt;</th><th scope=col>&lt;dbl&gt;</th><th scope=col>&lt;dbl&gt;</th><th scope=col>&lt;dbl&gt;</th><th scope=col>&lt;dttm&gt;</th></tr>\n",
       "</thead>\n",
       "<tbody>\n",
       "\t<tr><td>2013</td><td>1</td><td>2</td><td>NA</td><td>1545</td><td>NA</td><td>NA</td><td>1910</td><td>NA</td><td>AA</td><td> 133</td><td>NA</td><td>JFK</td><td>LAX</td><td>NA</td><td>2475</td><td>15</td><td>45</td><td>2013-01-02 15:00:00</td></tr>\n",
       "\t<tr><td>2013</td><td>1</td><td>2</td><td>NA</td><td>1601</td><td>NA</td><td>NA</td><td>1735</td><td>NA</td><td>UA</td><td> 623</td><td>NA</td><td>EWR</td><td>ORD</td><td>NA</td><td> 719</td><td>16</td><td> 1</td><td>2013-01-02 16:00:00</td></tr>\n",
       "\t<tr><td>2013</td><td>1</td><td>3</td><td>NA</td><td> 857</td><td>NA</td><td>NA</td><td>1209</td><td>NA</td><td>UA</td><td> 714</td><td>NA</td><td>EWR</td><td>MIA</td><td>NA</td><td>1085</td><td> 8</td><td>57</td><td>2013-01-03 08:00:00</td></tr>\n",
       "\t<tr><td>2013</td><td>1</td><td>3</td><td>NA</td><td> 645</td><td>NA</td><td>NA</td><td> 952</td><td>NA</td><td>UA</td><td> 719</td><td>NA</td><td>EWR</td><td>DFW</td><td>NA</td><td>1372</td><td> 6</td><td>45</td><td>2013-01-03 06:00:00</td></tr>\n",
       "\t<tr><td>2013</td><td>1</td><td>4</td><td>NA</td><td> 845</td><td>NA</td><td>NA</td><td>1015</td><td>NA</td><td>9E</td><td>3405</td><td>NA</td><td>JFK</td><td>DCA</td><td>NA</td><td> 213</td><td> 8</td><td>45</td><td>2013-01-04 08:00:00</td></tr>\n",
       "</tbody>\n",
       "</table>\n"
      ],
      "text/latex": [
       "A tibble: 5 × 19\n",
       "\\begin{tabular}{lllllllllllllllllll}\n",
       " year & month & day & dep\\_time & sched\\_dep\\_time & dep\\_delay & arr\\_time & sched\\_arr\\_time & arr\\_delay & carrier & flight & tailnum & origin & dest & air\\_time & distance & hour & minute & time\\_hour\\\\\n",
       " <int> & <int> & <int> & <int> & <int> & <dbl> & <int> & <int> & <dbl> & <chr> & <int> & <chr> & <chr> & <chr> & <dbl> & <dbl> & <dbl> & <dbl> & <dttm>\\\\\n",
       "\\hline\n",
       "\t 2013 & 1 & 2 & NA & 1545 & NA & NA & 1910 & NA & AA &  133 & NA & JFK & LAX & NA & 2475 & 15 & 45 & 2013-01-02 15:00:00\\\\\n",
       "\t 2013 & 1 & 2 & NA & 1601 & NA & NA & 1735 & NA & UA &  623 & NA & EWR & ORD & NA &  719 & 16 &  1 & 2013-01-02 16:00:00\\\\\n",
       "\t 2013 & 1 & 3 & NA &  857 & NA & NA & 1209 & NA & UA &  714 & NA & EWR & MIA & NA & 1085 &  8 & 57 & 2013-01-03 08:00:00\\\\\n",
       "\t 2013 & 1 & 3 & NA &  645 & NA & NA &  952 & NA & UA &  719 & NA & EWR & DFW & NA & 1372 &  6 & 45 & 2013-01-03 06:00:00\\\\\n",
       "\t 2013 & 1 & 4 & NA &  845 & NA & NA & 1015 & NA & 9E & 3405 & NA & JFK & DCA & NA &  213 &  8 & 45 & 2013-01-04 08:00:00\\\\\n",
       "\\end{tabular}\n"
      ],
      "text/markdown": [
       "\n",
       "A tibble: 5 × 19\n",
       "\n",
       "| year &lt;int&gt; | month &lt;int&gt; | day &lt;int&gt; | dep_time &lt;int&gt; | sched_dep_time &lt;int&gt; | dep_delay &lt;dbl&gt; | arr_time &lt;int&gt; | sched_arr_time &lt;int&gt; | arr_delay &lt;dbl&gt; | carrier &lt;chr&gt; | flight &lt;int&gt; | tailnum &lt;chr&gt; | origin &lt;chr&gt; | dest &lt;chr&gt; | air_time &lt;dbl&gt; | distance &lt;dbl&gt; | hour &lt;dbl&gt; | minute &lt;dbl&gt; | time_hour &lt;dttm&gt; |\n",
       "|---|---|---|---|---|---|---|---|---|---|---|---|---|---|---|---|---|---|---|\n",
       "| 2013 | 1 | 2 | NA | 1545 | NA | NA | 1910 | NA | AA |  133 | NA | JFK | LAX | NA | 2475 | 15 | 45 | 2013-01-02 15:00:00 |\n",
       "| 2013 | 1 | 2 | NA | 1601 | NA | NA | 1735 | NA | UA |  623 | NA | EWR | ORD | NA |  719 | 16 |  1 | 2013-01-02 16:00:00 |\n",
       "| 2013 | 1 | 3 | NA |  857 | NA | NA | 1209 | NA | UA |  714 | NA | EWR | MIA | NA | 1085 |  8 | 57 | 2013-01-03 08:00:00 |\n",
       "| 2013 | 1 | 3 | NA |  645 | NA | NA |  952 | NA | UA |  719 | NA | EWR | DFW | NA | 1372 |  6 | 45 | 2013-01-03 06:00:00 |\n",
       "| 2013 | 1 | 4 | NA |  845 | NA | NA | 1015 | NA | 9E | 3405 | NA | JFK | DCA | NA |  213 |  8 | 45 | 2013-01-04 08:00:00 |\n",
       "\n"
      ],
      "text/plain": [
       "  year month day dep_time sched_dep_time dep_delay arr_time sched_arr_time\n",
       "1 2013 1     2   NA       1545           NA        NA       1910          \n",
       "2 2013 1     2   NA       1601           NA        NA       1735          \n",
       "3 2013 1     3   NA        857           NA        NA       1209          \n",
       "4 2013 1     3   NA        645           NA        NA        952          \n",
       "5 2013 1     4   NA        845           NA        NA       1015          \n",
       "  arr_delay carrier flight tailnum origin dest air_time distance hour minute\n",
       "1 NA        AA       133   NA      JFK    LAX  NA       2475     15   45    \n",
       "2 NA        UA       623   NA      EWR    ORD  NA        719     16    1    \n",
       "3 NA        UA       714   NA      EWR    MIA  NA       1085      8   57    \n",
       "4 NA        UA       719   NA      EWR    DFW  NA       1372      6   45    \n",
       "5 NA        9E      3405   NA      JFK    DCA  NA        213      8   45    \n",
       "  time_hour          \n",
       "1 2013-01-02 15:00:00\n",
       "2 2013-01-02 16:00:00\n",
       "3 2013-01-03 08:00:00\n",
       "4 2013-01-03 06:00:00\n",
       "5 2013-01-04 08:00:00"
      ]
     },
     "metadata": {},
     "output_type": "display_data"
    },
    {
     "data": {
      "text/html": [
       "<table class=\"dataframe\">\n",
       "<caption>A tibble: 3 × 19</caption>\n",
       "<thead>\n",
       "\t<tr><th scope=col>year</th><th scope=col>month</th><th scope=col>day</th><th scope=col>dep_time</th><th scope=col>sched_dep_time</th><th scope=col>dep_delay</th><th scope=col>arr_time</th><th scope=col>sched_arr_time</th><th scope=col>arr_delay</th><th scope=col>carrier</th><th scope=col>flight</th><th scope=col>tailnum</th><th scope=col>origin</th><th scope=col>dest</th><th scope=col>air_time</th><th scope=col>distance</th><th scope=col>hour</th><th scope=col>minute</th><th scope=col>time_hour</th></tr>\n",
       "\t<tr><th scope=col>&lt;int&gt;</th><th scope=col>&lt;int&gt;</th><th scope=col>&lt;int&gt;</th><th scope=col>&lt;int&gt;</th><th scope=col>&lt;int&gt;</th><th scope=col>&lt;dbl&gt;</th><th scope=col>&lt;int&gt;</th><th scope=col>&lt;int&gt;</th><th scope=col>&lt;dbl&gt;</th><th scope=col>&lt;chr&gt;</th><th scope=col>&lt;int&gt;</th><th scope=col>&lt;chr&gt;</th><th scope=col>&lt;chr&gt;</th><th scope=col>&lt;chr&gt;</th><th scope=col>&lt;dbl&gt;</th><th scope=col>&lt;dbl&gt;</th><th scope=col>&lt;dbl&gt;</th><th scope=col>&lt;dbl&gt;</th><th scope=col>&lt;dttm&gt;</th></tr>\n",
       "</thead>\n",
       "<tbody>\n",
       "\t<tr><td>2013</td><td>9</td><td>30</td><td>2241</td><td>2246</td><td> -5</td><td>2345</td><td>   1</td><td>-16</td><td>B6</td><td>486</td><td>N346JB</td><td>JFK</td><td>ROC</td><td> 47</td><td> 264</td><td>22</td><td>46</td><td>2013-09-30 22:00:00</td></tr>\n",
       "\t<tr><td>2013</td><td>9</td><td>30</td><td>2307</td><td>2255</td><td> 12</td><td>2359</td><td>2358</td><td>  1</td><td>B6</td><td>718</td><td>N565JB</td><td>JFK</td><td>BOS</td><td> 33</td><td> 187</td><td>22</td><td>55</td><td>2013-09-30 22:00:00</td></tr>\n",
       "\t<tr><td>2013</td><td>9</td><td>30</td><td>2349</td><td>2359</td><td>-10</td><td> 325</td><td> 350</td><td>-25</td><td>B6</td><td>745</td><td>N516JB</td><td>JFK</td><td>PSE</td><td>196</td><td>1617</td><td>23</td><td>59</td><td>2013-09-30 23:00:00</td></tr>\n",
       "</tbody>\n",
       "</table>\n"
      ],
      "text/latex": [
       "A tibble: 3 × 19\n",
       "\\begin{tabular}{lllllllllllllllllll}\n",
       " year & month & day & dep\\_time & sched\\_dep\\_time & dep\\_delay & arr\\_time & sched\\_arr\\_time & arr\\_delay & carrier & flight & tailnum & origin & dest & air\\_time & distance & hour & minute & time\\_hour\\\\\n",
       " <int> & <int> & <int> & <int> & <int> & <dbl> & <int> & <int> & <dbl> & <chr> & <int> & <chr> & <chr> & <chr> & <dbl> & <dbl> & <dbl> & <dbl> & <dttm>\\\\\n",
       "\\hline\n",
       "\t 2013 & 9 & 30 & 2241 & 2246 &  -5 & 2345 &    1 & -16 & B6 & 486 & N346JB & JFK & ROC &  47 &  264 & 22 & 46 & 2013-09-30 22:00:00\\\\\n",
       "\t 2013 & 9 & 30 & 2307 & 2255 &  12 & 2359 & 2358 &   1 & B6 & 718 & N565JB & JFK & BOS &  33 &  187 & 22 & 55 & 2013-09-30 22:00:00\\\\\n",
       "\t 2013 & 9 & 30 & 2349 & 2359 & -10 &  325 &  350 & -25 & B6 & 745 & N516JB & JFK & PSE & 196 & 1617 & 23 & 59 & 2013-09-30 23:00:00\\\\\n",
       "\\end{tabular}\n"
      ],
      "text/markdown": [
       "\n",
       "A tibble: 3 × 19\n",
       "\n",
       "| year &lt;int&gt; | month &lt;int&gt; | day &lt;int&gt; | dep_time &lt;int&gt; | sched_dep_time &lt;int&gt; | dep_delay &lt;dbl&gt; | arr_time &lt;int&gt; | sched_arr_time &lt;int&gt; | arr_delay &lt;dbl&gt; | carrier &lt;chr&gt; | flight &lt;int&gt; | tailnum &lt;chr&gt; | origin &lt;chr&gt; | dest &lt;chr&gt; | air_time &lt;dbl&gt; | distance &lt;dbl&gt; | hour &lt;dbl&gt; | minute &lt;dbl&gt; | time_hour &lt;dttm&gt; |\n",
       "|---|---|---|---|---|---|---|---|---|---|---|---|---|---|---|---|---|---|---|\n",
       "| 2013 | 9 | 30 | 2241 | 2246 |  -5 | 2345 |    1 | -16 | B6 | 486 | N346JB | JFK | ROC |  47 |  264 | 22 | 46 | 2013-09-30 22:00:00 |\n",
       "| 2013 | 9 | 30 | 2307 | 2255 |  12 | 2359 | 2358 |   1 | B6 | 718 | N565JB | JFK | BOS |  33 |  187 | 22 | 55 | 2013-09-30 22:00:00 |\n",
       "| 2013 | 9 | 30 | 2349 | 2359 | -10 |  325 |  350 | -25 | B6 | 745 | N516JB | JFK | PSE | 196 | 1617 | 23 | 59 | 2013-09-30 23:00:00 |\n",
       "\n"
      ],
      "text/plain": [
       "  year month day dep_time sched_dep_time dep_delay arr_time sched_arr_time\n",
       "1 2013 9     30  2241     2246            -5       2345        1          \n",
       "2 2013 9     30  2307     2255            12       2359     2358          \n",
       "3 2013 9     30  2349     2359           -10        325      350          \n",
       "  arr_delay carrier flight tailnum origin dest air_time distance hour minute\n",
       "1 -16       B6      486    N346JB  JFK    ROC   47       264     22   46    \n",
       "2   1       B6      718    N565JB  JFK    BOS   33       187     22   55    \n",
       "3 -25       B6      745    N516JB  JFK    PSE  196      1617     23   59    \n",
       "  time_hour          \n",
       "1 2013-09-30 22:00:00\n",
       "2 2013-09-30 22:00:00\n",
       "3 2013-09-30 23:00:00"
      ]
     },
     "metadata": {},
     "output_type": "display_data"
    },
    {
     "name": "stdout",
     "output_type": "stream",
     "text": [
      "[1] \"arrange can be used to sort out data. Arrange forces NA values to buttom regardless of order but we solve this by using is.na and sorting are data in desc order using desc arguments\"\n"
     ]
    }
   ],
   "source": [
    "first_NA <- arrange(flights,desc(is.na(flights)))\n",
    "head(first_NA,5)\n",
    "tail(first_NA,3)\n",
    "print(\"arrange can be used to sort out data. Arrange forces NA values to buttom regardless of order but we solve this by using is.na function and sorting are data in desc order using desc argument\")\n"
   ]
  },
  {
   "cell_type": "markdown",
   "metadata": {},
   "source": [
    "4\n"
   ]
  },
  {
   "cell_type": "code",
   "execution_count": 49,
   "metadata": {},
   "outputs": [
    {
     "data": {
      "text/html": [
       "<table class=\"dataframe\">\n",
       "<caption>A tibble: 10 × 4</caption>\n",
       "<thead>\n",
       "\t<tr><th scope=col>fast</th><th scope=col>carrier</th><th scope=col>air_time</th><th scope=col>flight</th></tr>\n",
       "\t<tr><th scope=col>&lt;dbl&gt;</th><th scope=col>&lt;chr&gt;</th><th scope=col>&lt;dbl&gt;</th><th scope=col>&lt;int&gt;</th></tr>\n",
       "</thead>\n",
       "<tbody>\n",
       "\t<tr><td>11.723077</td><td>DL</td><td> 65</td><td>1499</td></tr>\n",
       "\t<tr><td>10.838710</td><td>EV</td><td> 93</td><td>4667</td></tr>\n",
       "\t<tr><td>10.800000</td><td>EV</td><td> 55</td><td>4292</td></tr>\n",
       "\t<tr><td>10.685714</td><td>EV</td><td> 70</td><td>3805</td></tr>\n",
       "\t<tr><td> 9.857143</td><td>DL</td><td>105</td><td>1902</td></tr>\n",
       "\t<tr><td> 9.400000</td><td>DL</td><td>170</td><td> 315</td></tr>\n",
       "\t<tr><td> 9.290698</td><td>B6</td><td>172</td><td> 707</td></tr>\n",
       "\t<tr><td> 9.274286</td><td>AA</td><td>175</td><td> 936</td></tr>\n",
       "\t<tr><td> 9.236994</td><td>DL</td><td>173</td><td> 347</td></tr>\n",
       "\t<tr><td> 9.236994</td><td>B6</td><td>173</td><td>1503</td></tr>\n",
       "</tbody>\n",
       "</table>\n"
      ],
      "text/latex": [
       "A tibble: 10 × 4\n",
       "\\begin{tabular}{llll}\n",
       " fast & carrier & air\\_time & flight\\\\\n",
       " <dbl> & <chr> & <dbl> & <int>\\\\\n",
       "\\hline\n",
       "\t 11.723077 & DL &  65 & 1499\\\\\n",
       "\t 10.838710 & EV &  93 & 4667\\\\\n",
       "\t 10.800000 & EV &  55 & 4292\\\\\n",
       "\t 10.685714 & EV &  70 & 3805\\\\\n",
       "\t  9.857143 & DL & 105 & 1902\\\\\n",
       "\t  9.400000 & DL & 170 &  315\\\\\n",
       "\t  9.290698 & B6 & 172 &  707\\\\\n",
       "\t  9.274286 & AA & 175 &  936\\\\\n",
       "\t  9.236994 & DL & 173 &  347\\\\\n",
       "\t  9.236994 & B6 & 173 & 1503\\\\\n",
       "\\end{tabular}\n"
      ],
      "text/markdown": [
       "\n",
       "A tibble: 10 × 4\n",
       "\n",
       "| fast &lt;dbl&gt; | carrier &lt;chr&gt; | air_time &lt;dbl&gt; | flight &lt;int&gt; |\n",
       "|---|---|---|---|\n",
       "| 11.723077 | DL |  65 | 1499 |\n",
       "| 10.838710 | EV |  93 | 4667 |\n",
       "| 10.800000 | EV |  55 | 4292 |\n",
       "| 10.685714 | EV |  70 | 3805 |\n",
       "|  9.857143 | DL | 105 | 1902 |\n",
       "|  9.400000 | DL | 170 |  315 |\n",
       "|  9.290698 | B6 | 172 |  707 |\n",
       "|  9.274286 | AA | 175 |  936 |\n",
       "|  9.236994 | DL | 173 |  347 |\n",
       "|  9.236994 | B6 | 173 | 1503 |\n",
       "\n"
      ],
      "text/plain": [
       "   fast      carrier air_time flight\n",
       "1  11.723077 DL       65      1499  \n",
       "2  10.838710 EV       93      4667  \n",
       "3  10.800000 EV       55      4292  \n",
       "4  10.685714 EV       70      3805  \n",
       "5   9.857143 DL      105      1902  \n",
       "6   9.400000 DL      170       315  \n",
       "7   9.290698 B6      172       707  \n",
       "8   9.274286 AA      175       936  \n",
       "9   9.236994 DL      173       347  \n",
       "10  9.236994 B6      173      1503  "
      ]
     },
     "metadata": {},
     "output_type": "display_data"
    },
    {
     "name": "stdout",
     "output_type": "stream",
     "text": [
      "[1] \"as fastest would be the covered distance in shortest amount of time it makes taking the ratio of distance by air time which represents data in column fast in terms of miles per minute\"\n"
     ]
    }
   ],
   "source": [
    "quickflight <- mutate(flights,fast = distance/air_time)\n",
    "\n",
    "fastest <- select(quickflight, fast,carrier,air_time,flight)\n",
    "fastest%>%\n",
    "arrange(desc(fast))%>%\n",
    "head(10)\n",
    "\n",
    "print(\"as fastest would be the covered distance in shortest amount of time it makes taking the ratio of distance by air time which represents data in column fast in terms of miles per minute\")\n"
   ]
  },
  {
   "cell_type": "markdown",
   "metadata": {},
   "source": [
    "5\n"
   ]
  },
  {
   "cell_type": "code",
   "execution_count": 50,
   "metadata": {},
   "outputs": [],
   "source": [
    "longest<- filter(flights,air_time == max(air_time, na.rm= T))\n",
    "shortest <-filter(flights,air_time == min(air_time, na.rm= T))\n",
    "\n"
   ]
  },
  {
   "cell_type": "markdown",
   "metadata": {},
   "source": [
    "6\n"
   ]
  },
  {
   "cell_type": "code",
   "execution_count": 56,
   "metadata": {},
   "outputs": [
    {
     "data": {
      "text/html": [
       "<table class=\"dataframe\">\n",
       "<caption>A tibble: 5 × 5</caption>\n",
       "<thead>\n",
       "\t<tr><th scope=col>year</th><th scope=col>month</th><th scope=col>day</th><th scope=col>dep_delay</th><th scope=col>arr_delay</th></tr>\n",
       "\t<tr><th scope=col>&lt;int&gt;</th><th scope=col>&lt;int&gt;</th><th scope=col>&lt;int&gt;</th><th scope=col>&lt;dbl&gt;</th><th scope=col>&lt;dbl&gt;</th></tr>\n",
       "</thead>\n",
       "<tbody>\n",
       "\t<tr><td>2013</td><td>1</td><td>1</td><td> 2</td><td> 11</td></tr>\n",
       "\t<tr><td>2013</td><td>1</td><td>1</td><td> 4</td><td> 20</td></tr>\n",
       "\t<tr><td>2013</td><td>1</td><td>1</td><td> 2</td><td> 33</td></tr>\n",
       "\t<tr><td>2013</td><td>1</td><td>1</td><td>-1</td><td>-18</td></tr>\n",
       "\t<tr><td>2013</td><td>1</td><td>1</td><td>-6</td><td>-25</td></tr>\n",
       "</tbody>\n",
       "</table>\n"
      ],
      "text/latex": [
       "A tibble: 5 × 5\n",
       "\\begin{tabular}{lllll}\n",
       " year & month & day & dep\\_delay & arr\\_delay\\\\\n",
       " <int> & <int> & <int> & <dbl> & <dbl>\\\\\n",
       "\\hline\n",
       "\t 2013 & 1 & 1 &  2 &  11\\\\\n",
       "\t 2013 & 1 & 1 &  4 &  20\\\\\n",
       "\t 2013 & 1 & 1 &  2 &  33\\\\\n",
       "\t 2013 & 1 & 1 & -1 & -18\\\\\n",
       "\t 2013 & 1 & 1 & -6 & -25\\\\\n",
       "\\end{tabular}\n"
      ],
      "text/markdown": [
       "\n",
       "A tibble: 5 × 5\n",
       "\n",
       "| year &lt;int&gt; | month &lt;int&gt; | day &lt;int&gt; | dep_delay &lt;dbl&gt; | arr_delay &lt;dbl&gt; |\n",
       "|---|---|---|---|---|\n",
       "| 2013 | 1 | 1 |  2 |  11 |\n",
       "| 2013 | 1 | 1 |  4 |  20 |\n",
       "| 2013 | 1 | 1 |  2 |  33 |\n",
       "| 2013 | 1 | 1 | -1 | -18 |\n",
       "| 2013 | 1 | 1 | -6 | -25 |\n",
       "\n"
      ],
      "text/plain": [
       "  year month day dep_delay arr_delay\n",
       "1 2013 1     1    2         11      \n",
       "2 2013 1     1    4         20      \n",
       "3 2013 1     1    2         33      \n",
       "4 2013 1     1   -1        -18      \n",
       "5 2013 1     1   -6        -25      "
      ]
     },
     "metadata": {},
     "output_type": "display_data"
    },
    {
     "data": {
      "text/html": [
       "<table class=\"dataframe\">\n",
       "<caption>A tibble: 5 × 5</caption>\n",
       "<thead>\n",
       "\t<tr><th scope=col>year</th><th scope=col>month</th><th scope=col>day</th><th scope=col>dep_delay</th><th scope=col>arr_delay</th></tr>\n",
       "\t<tr><th scope=col>&lt;int&gt;</th><th scope=col>&lt;int&gt;</th><th scope=col>&lt;int&gt;</th><th scope=col>&lt;dbl&gt;</th><th scope=col>&lt;dbl&gt;</th></tr>\n",
       "</thead>\n",
       "<tbody>\n",
       "\t<tr><td>2013</td><td>1</td><td>1</td><td> 2</td><td> 11</td></tr>\n",
       "\t<tr><td>2013</td><td>1</td><td>1</td><td> 4</td><td> 20</td></tr>\n",
       "\t<tr><td>2013</td><td>1</td><td>1</td><td> 2</td><td> 33</td></tr>\n",
       "\t<tr><td>2013</td><td>1</td><td>1</td><td>-1</td><td>-18</td></tr>\n",
       "\t<tr><td>2013</td><td>1</td><td>1</td><td>-6</td><td>-25</td></tr>\n",
       "</tbody>\n",
       "</table>\n"
      ],
      "text/latex": [
       "A tibble: 5 × 5\n",
       "\\begin{tabular}{lllll}\n",
       " year & month & day & dep\\_delay & arr\\_delay\\\\\n",
       " <int> & <int> & <int> & <dbl> & <dbl>\\\\\n",
       "\\hline\n",
       "\t 2013 & 1 & 1 &  2 &  11\\\\\n",
       "\t 2013 & 1 & 1 &  4 &  20\\\\\n",
       "\t 2013 & 1 & 1 &  2 &  33\\\\\n",
       "\t 2013 & 1 & 1 & -1 & -18\\\\\n",
       "\t 2013 & 1 & 1 & -6 & -25\\\\\n",
       "\\end{tabular}\n"
      ],
      "text/markdown": [
       "\n",
       "A tibble: 5 × 5\n",
       "\n",
       "| year &lt;int&gt; | month &lt;int&gt; | day &lt;int&gt; | dep_delay &lt;dbl&gt; | arr_delay &lt;dbl&gt; |\n",
       "|---|---|---|---|---|\n",
       "| 2013 | 1 | 1 |  2 |  11 |\n",
       "| 2013 | 1 | 1 |  4 |  20 |\n",
       "| 2013 | 1 | 1 |  2 |  33 |\n",
       "| 2013 | 1 | 1 | -1 | -18 |\n",
       "| 2013 | 1 | 1 | -6 | -25 |\n",
       "\n"
      ],
      "text/plain": [
       "  year month day dep_delay arr_delay\n",
       "1 2013 1     1    2         11      \n",
       "2 2013 1     1    4         20      \n",
       "3 2013 1     1    2         33      \n",
       "4 2013 1     1   -1        -18      \n",
       "5 2013 1     1   -6        -25      "
      ]
     },
     "metadata": {},
     "output_type": "display_data"
    },
    {
     "name": "stdout",
     "output_type": "stream",
     "text": [
      "[1] \"all of is a stricter function than compared to any of, we use an example below to justify the statement, adding a random name 'lemon', we notice that any_of function still produces the same result in both vars and vars.lemon but all of will throw us an error message if we do so. The functions can be used to display columns of the applied data frame\"\n"
     ]
    },
    {
     "data": {
      "text/html": [
       "<table class=\"dataframe\">\n",
       "<caption>A tibble: 5 × 5</caption>\n",
       "<thead>\n",
       "\t<tr><th scope=col>year</th><th scope=col>month</th><th scope=col>day</th><th scope=col>dep_delay</th><th scope=col>arr_delay</th></tr>\n",
       "\t<tr><th scope=col>&lt;int&gt;</th><th scope=col>&lt;int&gt;</th><th scope=col>&lt;int&gt;</th><th scope=col>&lt;dbl&gt;</th><th scope=col>&lt;dbl&gt;</th></tr>\n",
       "</thead>\n",
       "<tbody>\n",
       "\t<tr><td>2013</td><td>1</td><td>1</td><td> 2</td><td> 11</td></tr>\n",
       "\t<tr><td>2013</td><td>1</td><td>1</td><td> 4</td><td> 20</td></tr>\n",
       "\t<tr><td>2013</td><td>1</td><td>1</td><td> 2</td><td> 33</td></tr>\n",
       "\t<tr><td>2013</td><td>1</td><td>1</td><td>-1</td><td>-18</td></tr>\n",
       "\t<tr><td>2013</td><td>1</td><td>1</td><td>-6</td><td>-25</td></tr>\n",
       "</tbody>\n",
       "</table>\n"
      ],
      "text/latex": [
       "A tibble: 5 × 5\n",
       "\\begin{tabular}{lllll}\n",
       " year & month & day & dep\\_delay & arr\\_delay\\\\\n",
       " <int> & <int> & <int> & <dbl> & <dbl>\\\\\n",
       "\\hline\n",
       "\t 2013 & 1 & 1 &  2 &  11\\\\\n",
       "\t 2013 & 1 & 1 &  4 &  20\\\\\n",
       "\t 2013 & 1 & 1 &  2 &  33\\\\\n",
       "\t 2013 & 1 & 1 & -1 & -18\\\\\n",
       "\t 2013 & 1 & 1 & -6 & -25\\\\\n",
       "\\end{tabular}\n"
      ],
      "text/markdown": [
       "\n",
       "A tibble: 5 × 5\n",
       "\n",
       "| year &lt;int&gt; | month &lt;int&gt; | day &lt;int&gt; | dep_delay &lt;dbl&gt; | arr_delay &lt;dbl&gt; |\n",
       "|---|---|---|---|---|\n",
       "| 2013 | 1 | 1 |  2 |  11 |\n",
       "| 2013 | 1 | 1 |  4 |  20 |\n",
       "| 2013 | 1 | 1 |  2 |  33 |\n",
       "| 2013 | 1 | 1 | -1 | -18 |\n",
       "| 2013 | 1 | 1 | -6 | -25 |\n",
       "\n"
      ],
      "text/plain": [
       "  year month day dep_delay arr_delay\n",
       "1 2013 1     1    2         11      \n",
       "2 2013 1     1    4         20      \n",
       "3 2013 1     1    2         33      \n",
       "4 2013 1     1   -1        -18      \n",
       "5 2013 1     1   -6        -25      "
      ]
     },
     "metadata": {},
     "output_type": "display_data"
    }
   ],
   "source": [
    "vars <- c(\"year\", \"month\", \"day\", \"dep_delay\", \"arr_delay\")\n",
    "\n",
    "allof <-flights %>%\n",
    "          select(all_of(vars))\n",
    "head(allof,5)\n",
    "\n",
    "anyof <- flights %>%\n",
    "  select(any_of(vars))\n",
    "head(anyof,5)\n",
    "\n",
    "print(\"all of is a stricter function than compared to any of, we use an example below to justify the statement, adding a random name 'lemon', we notice that any_of function still produces the same result in both vars and vars.lemon but all of will throw us an error message if we do so. The functions can be used to display columns of the applied data frame. Note: to run the code please remove the hash\")\n",
    "vars.lemon <- c(\"year\", \"month\", \"day\", \"dep_delay\", \"arr_delay\",\"lemon\")\n",
    "\n",
    "#allof.lemon <-flights %>% select(all_of(vars.lemon))\n",
    "\n",
    "\n",
    "anyof.lemon <- flights %>%\n",
    "  select(any_of(vars.lemon))\n",
    "head(anyof.lemon,5)\n"
   ]
  },
  {
   "cell_type": "markdown",
   "metadata": {},
   "source": [
    "7\n"
   ]
  },
  {
   "cell_type": "code",
   "execution_count": 59,
   "metadata": {},
   "outputs": [
    {
     "data": {
      "text/html": [
       "<table class=\"dataframe\">\n",
       "<caption>A tibble: 16 × 2</caption>\n",
       "<thead>\n",
       "\t<tr><th scope=col>carrier</th><th scope=col>n</th></tr>\n",
       "\t<tr><th scope=col>&lt;chr&gt;</th><th scope=col>&lt;int&gt;</th></tr>\n",
       "</thead>\n",
       "<tbody>\n",
       "\t<tr><td>UA</td><td>58665</td></tr>\n",
       "\t<tr><td>B6</td><td>54635</td></tr>\n",
       "\t<tr><td>EV</td><td>54173</td></tr>\n",
       "\t<tr><td>DL</td><td>48110</td></tr>\n",
       "\t<tr><td>AA</td><td>32729</td></tr>\n",
       "\t<tr><td>MQ</td><td>26397</td></tr>\n",
       "\t<tr><td>US</td><td>20536</td></tr>\n",
       "\t<tr><td>9E</td><td>18460</td></tr>\n",
       "\t<tr><td>WN</td><td>12275</td></tr>\n",
       "\t<tr><td>VX</td><td> 5162</td></tr>\n",
       "\t<tr><td>FL</td><td> 3260</td></tr>\n",
       "\t<tr><td>AS</td><td>  714</td></tr>\n",
       "\t<tr><td>F9</td><td>  685</td></tr>\n",
       "\t<tr><td>YV</td><td>  601</td></tr>\n",
       "\t<tr><td>HA</td><td>  342</td></tr>\n",
       "\t<tr><td>OO</td><td>   32</td></tr>\n",
       "</tbody>\n",
       "</table>\n"
      ],
      "text/latex": [
       "A tibble: 16 × 2\n",
       "\\begin{tabular}{ll}\n",
       " carrier & n\\\\\n",
       " <chr> & <int>\\\\\n",
       "\\hline\n",
       "\t UA & 58665\\\\\n",
       "\t B6 & 54635\\\\\n",
       "\t EV & 54173\\\\\n",
       "\t DL & 48110\\\\\n",
       "\t AA & 32729\\\\\n",
       "\t MQ & 26397\\\\\n",
       "\t US & 20536\\\\\n",
       "\t 9E & 18460\\\\\n",
       "\t WN & 12275\\\\\n",
       "\t VX &  5162\\\\\n",
       "\t FL &  3260\\\\\n",
       "\t AS &   714\\\\\n",
       "\t F9 &   685\\\\\n",
       "\t YV &   601\\\\\n",
       "\t HA &   342\\\\\n",
       "\t OO &    32\\\\\n",
       "\\end{tabular}\n"
      ],
      "text/markdown": [
       "\n",
       "A tibble: 16 × 2\n",
       "\n",
       "| carrier &lt;chr&gt; | n &lt;int&gt; |\n",
       "|---|---|\n",
       "| UA | 58665 |\n",
       "| B6 | 54635 |\n",
       "| EV | 54173 |\n",
       "| DL | 48110 |\n",
       "| AA | 32729 |\n",
       "| MQ | 26397 |\n",
       "| US | 20536 |\n",
       "| 9E | 18460 |\n",
       "| WN | 12275 |\n",
       "| VX |  5162 |\n",
       "| FL |  3260 |\n",
       "| AS |   714 |\n",
       "| F9 |   685 |\n",
       "| YV |   601 |\n",
       "| HA |   342 |\n",
       "| OO |    32 |\n",
       "\n"
      ],
      "text/plain": [
       "   carrier n    \n",
       "1  UA      58665\n",
       "2  B6      54635\n",
       "3  EV      54173\n",
       "4  DL      48110\n",
       "5  AA      32729\n",
       "6  MQ      26397\n",
       "7  US      20536\n",
       "8  9E      18460\n",
       "9  WN      12275\n",
       "10 VX       5162\n",
       "11 FL       3260\n",
       "12 AS        714\n",
       "13 F9        685\n",
       "14 YV        601\n",
       "15 HA        342\n",
       "16 OO         32"
      ]
     },
     "metadata": {},
     "output_type": "display_data"
    },
    {
     "name": "stdout",
     "output_type": "stream",
     "text": [
      "[1] \"we use to count to see the number of occurences of unique values in the data set. Sorting this data allows us to see the largest to the smallest frequency (occurences) of our data\"\n"
     ]
    }
   ],
   "source": [
    "flights%>%\n",
    " count(carrier, sort = T)\n",
    "\n",
    "print(\"we use to count to see the number of occurences of unique values in the data set. Sorting this data allows us to see the largest to the smallest frequency (occurences) of our data\")"
   ]
  },
  {
   "cell_type": "markdown",
   "metadata": {},
   "source": [
    "8\n"
   ]
  },
  {
   "cell_type": "code",
   "execution_count": 74,
   "metadata": {},
   "outputs": [
    {
     "data": {
      "text/html": [
       "<table class=\"dataframe\">\n",
       "<caption>A tibble: 6 × 2</caption>\n",
       "<thead>\n",
       "\t<tr><th scope=col>sched_dep_time</th><th scope=col>meandelay</th></tr>\n",
       "\t<tr><th scope=col>&lt;int&gt;</th><th scope=col>&lt;dbl&gt;</th></tr>\n",
       "</thead>\n",
       "<tbody>\n",
       "\t<tr><td> 712</td><td>-37.15000</td></tr>\n",
       "\t<tr><td> 516</td><td>-30.75000</td></tr>\n",
       "\t<tr><td> 626</td><td>-29.00000</td></tr>\n",
       "\t<tr><td>2208</td><td>-29.00000</td></tr>\n",
       "\t<tr><td> 555</td><td>-27.00000</td></tr>\n",
       "\t<tr><td> 557</td><td>-24.66667</td></tr>\n",
       "</tbody>\n",
       "</table>\n"
      ],
      "text/latex": [
       "A tibble: 6 × 2\n",
       "\\begin{tabular}{ll}\n",
       " sched\\_dep\\_time & meandelay\\\\\n",
       " <int> & <dbl>\\\\\n",
       "\\hline\n",
       "\t  712 & -37.15000\\\\\n",
       "\t  516 & -30.75000\\\\\n",
       "\t  626 & -29.00000\\\\\n",
       "\t 2208 & -29.00000\\\\\n",
       "\t  555 & -27.00000\\\\\n",
       "\t  557 & -24.66667\\\\\n",
       "\\end{tabular}\n"
      ],
      "text/markdown": [
       "\n",
       "A tibble: 6 × 2\n",
       "\n",
       "| sched_dep_time &lt;int&gt; | meandelay &lt;dbl&gt; |\n",
       "|---|---|\n",
       "|  712 | -37.15000 |\n",
       "|  516 | -30.75000 |\n",
       "|  626 | -29.00000 |\n",
       "| 2208 | -29.00000 |\n",
       "|  555 | -27.00000 |\n",
       "|  557 | -24.66667 |\n",
       "\n"
      ],
      "text/plain": [
       "  sched_dep_time meandelay\n",
       "1  712           -37.15000\n",
       "2  516           -30.75000\n",
       "3  626           -29.00000\n",
       "4 2208           -29.00000\n",
       "5  555           -27.00000\n",
       "6  557           -24.66667"
      ]
     },
     "metadata": {},
     "output_type": "display_data"
    }
   ],
   "source": [
    "avoid.delay<-flights%>%\n",
    "  group_by(sched_dep_time)%>%\n",
    "  mutate(total_delay = dep_delay+arr_delay, .keep = \"all\")%>%\n",
    "  summarize(meandelay = mean(total_delay,na.rm= T))%>%\n",
    "  arrange(meandelay)\n",
    "\n",
    "head(avoid.delay)\n",
    "\n"
   ]
  },
  {
   "cell_type": "markdown",
   "metadata": {},
   "source": [
    "9.a\n"
   ]
  },
  {
   "cell_type": "code",
   "execution_count": 77,
   "metadata": {},
   "outputs": [
    {
     "data": {
      "text/html": [
       "<table class=\"dataframe\">\n",
       "<caption>A tibble: 5 × 2</caption>\n",
       "<thead>\n",
       "\t<tr><th scope=col>dest</th><th scope=col>totaldelay</th></tr>\n",
       "\t<tr><th scope=col>&lt;chr&gt;</th><th scope=col>&lt;dbl&gt;</th></tr>\n",
       "</thead>\n",
       "<tbody>\n",
       "\t<tr><td>ABQ</td><td>  4603</td></tr>\n",
       "\t<tr><td>ACK</td><td>  2983</td></tr>\n",
       "\t<tr><td>ALB</td><td> 15819</td></tr>\n",
       "\t<tr><td>ANC</td><td>    83</td></tr>\n",
       "\t<tr><td>ATL</td><td>399462</td></tr>\n",
       "</tbody>\n",
       "</table>\n"
      ],
      "text/latex": [
       "A tibble: 5 × 2\n",
       "\\begin{tabular}{ll}\n",
       " dest & totaldelay\\\\\n",
       " <chr> & <dbl>\\\\\n",
       "\\hline\n",
       "\t ABQ &   4603\\\\\n",
       "\t ACK &   2983\\\\\n",
       "\t ALB &  15819\\\\\n",
       "\t ANC &     83\\\\\n",
       "\t ATL & 399462\\\\\n",
       "\\end{tabular}\n"
      ],
      "text/markdown": [
       "\n",
       "A tibble: 5 × 2\n",
       "\n",
       "| dest &lt;chr&gt; | totaldelay &lt;dbl&gt; |\n",
       "|---|---|\n",
       "| ABQ |   4603 |\n",
       "| ACK |   2983 |\n",
       "| ALB |  15819 |\n",
       "| ANC |     83 |\n",
       "| ATL | 399462 |\n",
       "\n"
      ],
      "text/plain": [
       "  dest totaldelay\n",
       "1 ABQ    4603    \n",
       "2 ACK    2983    \n",
       "3 ALB   15819    \n",
       "4 ANC      83    \n",
       "5 ATL  399462    "
      ]
     },
     "metadata": {},
     "output_type": "display_data"
    }
   ],
   "source": [
    "dest_flight <- flights%>%\n",
    "  mutate(total_delay = dep_delay+arr_delay, .keep = \"all\")%>%\n",
    "  group_by(dest)%>%\n",
    "  summarize(totaldelay = sum(total_delay,na.rm= T))\n",
    "head(dest_flight,5)"
   ]
  },
  {
   "cell_type": "markdown",
   "metadata": {},
   "source": [
    "9.b\n"
   ]
  },
  {
   "cell_type": "code",
   "execution_count": 78,
   "metadata": {},
   "outputs": [
    {
     "name": "stderr",
     "output_type": "stream",
     "text": [
      "`summarise()` has grouped output by 'dest'. You can override using the `.groups` argument.\n",
      "\n"
     ]
    },
    {
     "data": {
      "text/html": [
       "<table class=\"dataframe\">\n",
       "<caption>A grouped_df: 6 × 4</caption>\n",
       "<thead>\n",
       "\t<tr><th scope=col>dest</th><th scope=col>flight</th><th scope=col>totaldelay</th><th scope=col>prop</th></tr>\n",
       "\t<tr><th scope=col>&lt;chr&gt;</th><th scope=col>&lt;int&gt;</th><th scope=col>&lt;dbl&gt;</th><th scope=col>&lt;chr&gt;</th></tr>\n",
       "</thead>\n",
       "<tbody>\n",
       "\t<tr><td>ABQ</td><td>  65</td><td>1844</td><td>40.06%</td></tr>\n",
       "\t<tr><td>ABQ</td><td>1505</td><td>2759</td><td>59.94%</td></tr>\n",
       "\t<tr><td>ACK</td><td>1191</td><td>1257</td><td>42.14%</td></tr>\n",
       "\t<tr><td>ACK</td><td>1195</td><td>  53</td><td>1.78% </td></tr>\n",
       "\t<tr><td>ACK</td><td>1291</td><td> 484</td><td>16.23%</td></tr>\n",
       "\t<tr><td>ACK</td><td>1491</td><td>1189</td><td>39.86%</td></tr>\n",
       "</tbody>\n",
       "</table>\n"
      ],
      "text/latex": [
       "A grouped\\_df: 6 × 4\n",
       "\\begin{tabular}{llll}\n",
       " dest & flight & totaldelay & prop\\\\\n",
       " <chr> & <int> & <dbl> & <chr>\\\\\n",
       "\\hline\n",
       "\t ABQ &   65 & 1844 & 40.06\\%\\\\\n",
       "\t ABQ & 1505 & 2759 & 59.94\\%\\\\\n",
       "\t ACK & 1191 & 1257 & 42.14\\%\\\\\n",
       "\t ACK & 1195 &   53 & 1.78\\% \\\\\n",
       "\t ACK & 1291 &  484 & 16.23\\%\\\\\n",
       "\t ACK & 1491 & 1189 & 39.86\\%\\\\\n",
       "\\end{tabular}\n"
      ],
      "text/markdown": [
       "\n",
       "A grouped_df: 6 × 4\n",
       "\n",
       "| dest &lt;chr&gt; | flight &lt;int&gt; | totaldelay &lt;dbl&gt; | prop &lt;chr&gt; |\n",
       "|---|---|---|---|\n",
       "| ABQ |   65 | 1844 | 40.06% |\n",
       "| ABQ | 1505 | 2759 | 59.94% |\n",
       "| ACK | 1191 | 1257 | 42.14% |\n",
       "| ACK | 1195 |   53 | 1.78%  |\n",
       "| ACK | 1291 |  484 | 16.23% |\n",
       "| ACK | 1491 | 1189 | 39.86% |\n",
       "\n"
      ],
      "text/plain": [
       "  dest flight totaldelay prop  \n",
       "1 ABQ    65   1844       40.06%\n",
       "2 ABQ  1505   2759       59.94%\n",
       "3 ACK  1191   1257       42.14%\n",
       "4 ACK  1195     53       1.78% \n",
       "5 ACK  1291    484       16.23%\n",
       "6 ACK  1491   1189       39.86%"
      ]
     },
     "metadata": {},
     "output_type": "display_data"
    }
   ],
   "source": [
    "prop.delay <- flights %>%\n",
    "  mutate(total_delay = dep_delay+arr_delay, .keep = \"all\")%>%\n",
    "  group_by(dest,flight) %>%\n",
    "  summarize(totaldelay = sum(total_delay,na.rm= T)) %>%\n",
    "  ungroup() %>%\n",
    "  group_by(dest) %>% \n",
    "  mutate(prop = label_percent(accuracy = 0.01)(totaldelay/sum(totaldelay,na.rm = T)))\n",
    "head(prop.delay)"
   ]
  },
  {
   "cell_type": "markdown",
   "metadata": {},
   "source": [
    "\n"
   ]
  }
 ],
 "metadata": {
  "anaconda-cloud": "",
  "kernelspec": {
   "display_name": "R",
   "language": "R",
   "name": "ir"
  },
  "language_info": {
   "codemirror_mode": "r",
   "file_extension": ".r",
   "mimetype": "text/x-r-source",
   "name": "R",
   "pygments_lexer": "r",
   "version": "4.1.2"
  }
 },
 "nbformat": 4,
 "nbformat_minor": 1
}
