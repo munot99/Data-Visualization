{
 "cells": [
  {
   "cell_type": "raw",
   "id": "80425006",
   "metadata": {},
   "source": [
    "---\n",
    "title: \"Task A\"\n",
    "author: \"Pranav\"\n",
    "date: \"28/03/2022\"\n",
    "output: html_document\n",
    "---"
   ]
  },
  {
   "cell_type": "code",
   "execution_count": null,
   "id": "0f47a143",
   "metadata": {
    "name": "setup",
    "tags": [
     "remove_cell"
    ]
   },
   "outputs": [],
   "source": [
    "knitr::opts_chunk$set(echo = TRUE)"
   ]
  },
  {
   "cell_type": "markdown",
   "id": "1bbc9579",
   "metadata": {
    "lines_to_next_cell": 0
   },
   "source": [
    "The Final Project is divided into three assignments and is presented with each question answered in its respective markdown file."
   ]
  },
  {
   "cell_type": "code",
   "execution_count": null,
   "id": "c7cbd355",
   "metadata": {
    "lines_to_next_cell": 2
   },
   "outputs": [],
   "source": [
    "rm(list = ls())\n",
    "getwd()\n",
    "\n",
    "setwd(\"D:\\\\BSE\\\\BSE Material\\\\sem 2\\\\Data Vis\\\\Project\")\n",
    "\n",
    "library(dplyr)\n",
    "library(ggplot2)\n",
    "library(ggthemes)\n",
    "                    # Install data.table package\n",
    "library(\"data.table\")  \n",
    "library(scales)\n",
    "\n"
   ]
  },
  {
   "cell_type": "markdown",
   "id": "ac0440aa",
   "metadata": {},
   "source": [
    "You can also embed plots, for example:"
   ]
  },
  {
   "cell_type": "code",
   "execution_count": null,
   "id": "17b18e45",
   "metadata": {
    "lines_to_next_cell": 0,
    "name": "Data",
    "tags": [
     "remove_input"
    ]
   },
   "outputs": [],
   "source": [
    "pp_data <- read.csv(\"ppdata_lite.csv\")\n",
    "colnames(pp_data)"
   ]
  },
  {
   "cell_type": "markdown",
   "id": "77e73a5a",
   "metadata": {
    "lines_to_next_cell": 0
   },
   "source": [
    "A1. For the 33 London boroughs create a box-plot (or several box-plots) that compares house prices between the boroughs. Can you think of a better way to compare borough house prices (please demonstrate)?\n",
    "\n",
    "Ans: We first filter the data according to the county of Greater London.\n",
    "The Data represents the 33 districts in the county and we would demonstrate the house prices according to these through a box plot.\n",
    "\n",
    "To make our data a bit easier to visualize we undertake two steps:\n",
    "We first find the year from the data column and we divide the years into 3 periods\n",
    "1990's , 2000's, 2010's"
   ]
  },
  {
   "cell_type": "code",
   "execution_count": null,
   "id": "deea521c",
   "metadata": {
    "lines_to_next_cell": 0
   },
   "outputs": [],
   "source": [
    "London <- pp_data %>%\n",
    "  filter(county == \"GREATER LONDON\")\n",
    "London <- London %>%\n",
    "  mutate(dist = substr(district,start = 1, stop = 2))%>%\n",
    "  mutate(year = as.POSIXlt(date_of_transfer)$year +1900)\n",
    "head(London)\n",
    "sort(unique(London$year))\n",
    "\n",
    "London <- London %>% mutate(period = case_when(year %in% seq(1995,1999,1)~\"1990's\",\n",
    "                            year %in% seq(2000,2009,1)~\"2000's\",\n",
    "                            year %in% seq(2010,2016,1)~\"2010's\"))%>%arrange(year)\n",
    "  #calculate upper and lower limits\n",
    "upper_limit = mean(London$price) + 2 * sd(London$price)"
   ]
  },
  {
   "cell_type": "markdown",
   "id": "717cc669",
   "metadata": {
    "lines_to_next_cell": 0
   },
   "source": [
    "Lets First Do a Basic Box Plot, Here we remove the outliers as we assume that these are due to factors we cannot account for. For Eg (Prime residence, Luxrury Buildings, etc...). Our objective is to see the price of majority of the properties in that district"
   ]
  },
  {
   "cell_type": "code",
   "execution_count": null,
   "id": "b5346de2",
   "metadata": {
    "lines_to_next_cell": 2,
    "name": "Basic Boxplot"
   },
   "outputs": [],
   "source": [
    "\n",
    "District_plot <- ggplot(London,aes((x = as.factor(reorder(district, -price, na.rm = FALSE))),y= price)) + \n",
    "  geom_boxplot(aes( fill = district),outlier.shape = NA)+\n",
    "  ylim(0,upper_limit)+theme(legend.position=\"none\")+scale_x_discrete(guide = guide_axis(angle = 90))+\n",
    "  ggtitle(\"Figure 1. District based Boxplots of prices\")+ xlab(\"London Districts\")\n",
    "options(repr.plot.width=12, repr.plot.height=8)\n",
    "District_plot"
   ]
  },
  {
   "cell_type": "markdown",
   "id": "d3668800",
   "metadata": {},
   "source": [
    "The plot obtained does gives us some information about the price distribution in london district with Chelsea having the highest prices in the county. \n",
    "Yet these prices need to reflect their change through the decades as well as convey recent information. A better way to compare would be using the time periods data to see how these prices have differed using the same box plot but facetting it with the periods.\n"
   ]
  },
  {
   "cell_type": "code",
   "execution_count": null,
   "id": "9babee80",
   "metadata": {
    "name": "Better Plot"
   },
   "outputs": [],
   "source": [
    "Better_London <- London %>%\n",
    "  filter(!price  > upper_limit)\n",
    "\n",
    "Mod_plot <- ggplot(Better_London,aes((x = as.factor(reorder(district, -price, na.rm = FALSE))),y= price)) + \n",
    "  geom_boxplot(aes( fill = district),outlier.shape = NA)+\n",
    "  ylim(0,upper_limit)+theme(legend.position=\"none\")+scale_x_discrete(guide = guide_axis(angle = 90))+\n",
    "  ggtitle(\"Figure 1. District based Boxplots of prices\")+ xlab(\"London Districts\")+facet_wrap(~period,scales = \"free_y\",ncol = 1,nrow = 3)+\n",
    "  scale_y_continuous(trans = \"log2\" , labels = scales::comma , limits = quantile(London$price, c(0.02, 0.95)))+\n",
    "  ylab(\"Price\") +\n",
    "  ggtitle(\"Figure 2. District based Boxplots for Various Periods\") +\n",
    "  theme_minimal()+theme(legend.position = \"none\")\n",
    "options(repr.plot.width=16, repr.plot.height=12)\n",
    "Mod_plot\n"
   ]
  },
  {
   "cell_type": "markdown",
   "id": "7830ec7e",
   "metadata": {},
   "source": [
    "A2. Could the entire dataset be used to estimate the relationship between price of flats and floor level? If yes, how would you show that relationship in a plot?\n",
    "\n",
    "Ans; Well the question is a bit tricky, firstly "
   ]
  },
  {
   "cell_type": "code",
   "execution_count": null,
   "id": "c3f10b24",
   "metadata": {
    "lines_to_next_cell": 2
   },
   "outputs": [],
   "source": [
    "head(unique(London$SAON),10)\n",
    "print(paste(\"There are\",length(unique(London$SAON)),\"unique values\"))"
   ]
  },
  {
   "cell_type": "markdown",
   "id": "e0cd9c66",
   "metadata": {
    "lines_to_next_cell": 0
   },
   "source": [
    "Even there are different flats , the way the floors are labelled and the variations of these are difficult to navigate. Moreover, some do not indicate the floor they are based on. For Eg. \"The Flat\", :Flat B\" , Flat 14\", etc, give no indication of the floor level or any other detail which would allow us to understand the floor they are on. This limits us to labelled flats which we can segregate either through floor number or their discription. Therefore we first create a dataset which segregates flats based on SAON to find the relation between floor levels and prices of flats.\n",
    "\n",
    "The first step involves filtering out the Flats and removing any blank spaces in the data."
   ]
  },
  {
   "cell_type": "code",
   "execution_count": null,
   "id": "7a06d29c",
   "metadata": {
    "lines_to_next_cell": 0,
    "name": "Flat Filter"
   },
   "outputs": [],
   "source": [
    "Flats <- pp_data%>%\n",
    "  filter(property_type == \"F\")\n",
    "\n",
    "Flats_mod <- Flats %>%\n",
    "  filter(SAON != \"\")"
   ]
  },
  {
   "cell_type": "markdown",
   "id": "1d81ec6f",
   "metadata": {},
   "source": [
    "Based on descriptions and floor numbers available we then segregate the data from ground to the sixth floor. Note : though there is data that indicates higher floors, we believe that ground to sixth would help in understanding if there is a trend present or not. "
   ]
  },
  {
   "cell_type": "code",
   "execution_count": null,
   "id": "9ed74920",
   "metadata": {
    "lines_to_next_cell": 0,
    "name": "Floor Dataset"
   },
   "outputs": [],
   "source": [
    "ground <- c(\"BASEMENT|GROUND|LOWER\")\n",
    "\n",
    "Floor0 <- Flats_mod[grepl(ground,Flats_mod$SAON),]\n",
    "\n",
    "Floor0[\"floor\"] <- \"ground\"\n",
    "\n",
    "first <- c(\"FIRST\")\n",
    "second <- c(\"SECOND\")\n",
    "third <- c(\"THIRD\")\n",
    "fourth <- c(\"FOURTH\")\n",
    "fifth <- c(\"FIFTH\")\n",
    "sixth <- c(\"SIXTH\")\n",
    "\n",
    "Floor1 <- Flats_mod[grepl(first,Flats_mod$SAON),]\n",
    "Floor1[\"floor\"] <- \"first\"\n",
    "Floor2 <- Flats_mod[grepl(second,Flats_mod$SAON),]\n",
    "Floor2[\"floor\"] <- \"second\"\n",
    "Floor3 <- Flats_mod[grepl(third,Flats_mod$SAON),]\n",
    "Floor3[\"floor\"] <- \"third\"\n",
    "Floor4 <- Flats_mod[grepl(fourth,Flats_mod$SAON),]\n",
    "Floor4[\"floor\"] <- \"fourth\"\n",
    "Floor5 <- Flats_mod[grepl(fifth,Flats_mod$SAON),]\n",
    "Floor5[\"floor\"] <- \"fifth\"\n",
    "Floor6 <- Flats_mod[grepl(sixth,Flats_mod$SAON),]\n",
    "Floor6[\"floor\"] <- \"sixth\"\n",
    "\n",
    "Floors <- rbind(Floor0,Floor1,Floor2,Floor3,Floor4,Floor5,Floor6)"
   ]
  },
  {
   "cell_type": "markdown",
   "id": "5c5f266c",
   "metadata": {
    "lines_to_next_cell": 0
   },
   "source": [
    "We combine our dataset and look at the plot "
   ]
  },
  {
   "cell_type": "code",
   "execution_count": null,
   "id": "d0455794",
   "metadata": {
    "lines_to_next_cell": 2,
    "name": "Floor Plot"
   },
   "outputs": [],
   "source": [
    "Floors <- Floors %>%\n",
    "  mutate(year = as.POSIXlt(date_of_transfer)$year + 1900)%>%\n",
    "  select(year,price,floor,SAON)\n",
    "\n",
    "head(Floors)\n",
    "tail(Floors)\n",
    "\n",
    "\n",
    "\n",
    "\n",
    "floor_plot <- Floors %>%\n",
    "  ggplot( aes(x=year, y=price, group=floor, color=floor)) +\n",
    "  geom_smooth(method=\"gam\", formula = y ~ s(x, bs = \"cs\", k=6), se = F) +\n",
    "  scale_y_continuous(trans = \"log2\", labels = comma)+theme_minimal()+ggtitle(\"Change in Prices with Floor Levels\")\n",
    "floor_plot\n",
    "\n"
   ]
  },
  {
   "cell_type": "markdown",
   "id": "336b835c",
   "metadata": {},
   "source": [
    "It is key to understand that the data used considered is not uniform, for eg we get values such as FLAT 14 TWOSIXTHIRTY, when we filter for the Sixth floor, given the size of the dataset and variations of SAON values, it does not makes sense to filter outliers and distorted rows manually and we would relie on the law of large numbers. \n",
    "\n",
    "We do see that from ground to the fourth floor there is a clear pattern of flats getting costlier. Our intial hypothesis of flats have a positive realtions therefore makes sense for this range. The data becomes unclear for floors 5 and 6 as the later shows no change with the former even though having larger values from ground to third floor , showing a dip and being lower than flats on fourth floor. These therefore contradicts our arguments further."
   ]
  }
 ],
 "metadata": {
  "jupytext": {
   "cell_metadata_filter": "tags,name,-all",
   "main_language": "R",
   "notebook_metadata_filter": "-all"
  }
 },
 "nbformat": 4,
 "nbformat_minor": 5
}
