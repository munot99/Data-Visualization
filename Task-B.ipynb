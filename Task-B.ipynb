{
 "cells": [
  {
   "cell_type": "raw",
   "id": "0c383272",
   "metadata": {},
   "source": [
    "---\n",
    "title: \"Task B\"\n",
    "author: \"Pranav\"\n",
    "date: \"28/03/2022\"\n",
    "output: html_document\n",
    "---"
   ]
  },
  {
   "cell_type": "code",
   "execution_count": null,
   "id": "a0e08318",
   "metadata": {
    "name": "setup",
    "tags": [
     "remove_cell"
    ]
   },
   "outputs": [],
   "source": [
    "knitr::opts_chunk$set(echo = TRUE)"
   ]
  },
  {
   "cell_type": "markdown",
   "id": "242f9b58",
   "metadata": {},
   "source": [
    "Disclaimer : This is the Markdown file is for Task B"
   ]
  },
  {
   "cell_type": "code",
   "execution_count": null,
   "id": "bff13cc0",
   "metadata": {
    "name": "Packages"
   },
   "outputs": [],
   "source": [
    "rm(list = ls())\n",
    "library(plyr)\n",
    "library(dplyr)\n",
    "library(tidyverse)\n",
    "library(ggplot2)\n",
    "library(ggpubr)\n",
    "library(rgdal)\n",
    "library(geojsonio)\n",
    "library(lubridate)\n",
    "library(cowplot)\n",
    "library(leaflet)\n",
    "library(reshape)\n",
    "library(raster)\n",
    "library(RColorBrewer)\n",
    "library(spatialEco)\n",
    "library(htmltools)"
   ]
  },
  {
   "cell_type": "markdown",
   "id": "c271324e",
   "metadata": {
    "lines_to_next_cell": 0
   },
   "source": [
    "B1. Create a GeoJSON file where each postcode is represented with a latitude, longitude value, together with minimum, maximum, mean and median house price.\n",
    "\n",
    "Ans: We create a GeoJSON file with the required information\n",
    "\n",
    "We load the required data. We remove the ID Column from the postcodes data set as it is a redundant column. Then we create a column to store the years of our original dataset.This is done for ease of viewing and grouping data ahead."
   ]
  },
  {
   "cell_type": "code",
   "execution_count": null,
   "id": "ce32e5ae",
   "metadata": {},
   "outputs": [],
   "source": [
    "setwd(\"D:\\\\BSE\\\\BSE Material\\\\sem 2\\\\Data Vis\\\\Project\")\n",
    "pp_data <- read.csv(\"ppdata_lite.csv\")\n",
    "\n",
    "\n",
    "# Load file with postcodes and latitude/longitude\n",
    "ukpostcodes <- read.csv(\"ukpostcodes.csv\", header = TRUE, sep = ',')\n",
    "#id seems redundant\n",
    "ukpostcodes <- ukpostcodes[-1]\n",
    "#selecting only required data\n",
    "ppdata <- pp_data %>%\n",
    "  mutate(year = as.POSIXlt(date_of_transfer)$year +1900)"
   ]
  },
  {
   "cell_type": "markdown",
   "id": "af3cac9f",
   "metadata": {},
   "source": [
    "We create a seperate dataframe which would contain postcodes,prices and years.And find the mean,max,min and median for the postcodes available."
   ]
  },
  {
   "cell_type": "code",
   "execution_count": null,
   "id": "2f2d9753",
   "metadata": {
    "name": "GeoJSON",
    "tags": [
     "remove_input"
    ]
   },
   "outputs": [],
   "source": [
    "ppdata <- ppdata %>%\n",
    "  group_by(postcode)%>%\n",
    "  summarise_at(vars(price),list(mean_price = mean,\n",
    "                                median_price = median,\n",
    "                                max_price = max,\n",
    "                                min_price = min))\n",
    "  \n",
    "head(ppdata)\n",
    "\n",
    "ppdata2 <- ppdata[-1,]"
   ]
  },
  {
   "cell_type": "markdown",
   "id": "63b1adcd",
   "metadata": {
    "lines_to_next_cell": 0
   },
   "source": [
    "We then remove the first row as it contains values starting from 0 which we would not require and throws an error when we merge the data with ukpostcodes. We create a spatial dataset and create the required GeoJSON file."
   ]
  },
  {
   "cell_type": "code",
   "execution_count": null,
   "id": "7cbf260d",
   "metadata": {
    "name": "creating file",
    "tags": [
     "remove_input"
    ]
   },
   "outputs": [],
   "source": [
    "ppdata2 <- ppdata[-1,]\n",
    "# Create GeoJSON file\n",
    "merge_data <- merge(ppdata2, ukpostcodes, by = \"postcode\")\n",
    "\n",
    "coordinates(merge_data) <- c(\"latitude\", \"longitude\")\n",
    "\n",
    "head(merge_data)\n",
    "\n",
    "data <- merge_data\n",
    "\n",
    "writeOGR(data, \n",
    "         layer = \"merge_data\", \n",
    "         check_exists = TRUE,\n",
    "         overwrite_layer = T,\n",
    "         driver = \"GeoJSON\", \n",
    "         dsn = \"Plot_data.geojson\" )"
   ]
  },
  {
   "cell_type": "markdown",
   "id": "2bba14e9",
   "metadata": {},
   "source": [
    "B2. Open the GeoJSON file in the GIS application of your choice and colour-code the data to give an overview of areas with high, medium and low median house price. Additionally, you can visualise this information as cloropleths or use shiny and add the information as markers on a map for a more interactive and impressive"
   ]
  },
  {
   "cell_type": "markdown",
   "id": "dd4382b6",
   "metadata": {
    "lines_to_next_cell": 0
   },
   "source": [
    "Ans: The question requires us to use a GIS application and view areas with high,medium and low median house prices. On further discussion with colleagues, I use the Area shapial data which contains the first( in some cases first two) letters of the postcodes. This allowed in reducing the running time, a major constraining factor while computing on the device used and helped in displaying the spatial data better for the required plot. \n",
    "\n",
    "We create a dataset this time by first getting the first using the old dataset and then mutating the postcode column by only keeping the first or the first two letters of the postal code.\n",
    "We then as instructed find the mean,median,max and min prices of the houses according to these post codes."
   ]
  },
  {
   "cell_type": "code",
   "execution_count": null,
   "id": "0f16aa8f",
   "metadata": {
    "lines_to_next_cell": 2
   },
   "outputs": [],
   "source": [
    "Dataset <- pp_data\n",
    "Dataset$postcode <- gsub('[[:digit:]]+', '', Dataset$postcode)\n",
    "Dataset$postcode <- substr(Dataset$postcode,start = 1,stop = 2)\n",
    "Dataset <- na.omit(Dataset)\n",
    "Dataset <- Dataset%>%\n",
    "  group_by(postcode)%>%\n",
    "  summarise_at(vars(price),list(mean_price = mean,\n",
    "                                median_price = median,\n",
    "                                max_price = max,\n",
    "                                min_price = min))\n",
    "Dataset <- Dataset[-1,]\n",
    "\n",
    "head(Dataset)"
   ]
  },
  {
   "cell_type": "markdown",
   "id": "d9d0271b",
   "metadata": {},
   "source": [
    "We get our Area specific spatial data and combine it with the dataset created to obtain a spaital dataset which contains the longitude,latitude, price statistics and postcodes of the data that is to be plotted "
   ]
  },
  {
   "cell_type": "code",
   "execution_count": null,
   "id": "7b6e728e",
   "metadata": {
    "lines_to_next_cell": 2
   },
   "outputs": [],
   "source": [
    "Area <- shapefile(\"shapes/Areas.shp\")\n",
    "class(Area) \n",
    "\n",
    "Map_data <- merge(Area,Dataset,by.x = 'name',by.y = \"postcode\")\n",
    "\n",
    "head(Map_data)\n",
    "Map_data <- sp.na.omit(Map_data)"
   ]
  },
  {
   "cell_type": "markdown",
   "id": "2b50c587",
   "metadata": {},
   "source": [
    "Before Plotting we need to defined how we will divide our data to show different house prices and if they are low,medium or high. Instead of sticking to three catergories, I have chosen to divide the values into 6 parts based on its percentiles. We then assign colours to these required intervals.  "
   ]
  },
  {
   "cell_type": "code",
   "execution_count": null,
   "id": "05923594",
   "metadata": {},
   "outputs": [],
   "source": [
    "intervals = quantile(Map_data$mean_price, probs = c(0.167,0.33,0.5,0.667,0.833,1),names = F ,na.rm = T)\n",
    "values <- append(intervals,0,0)\n",
    "factpal <- colorBin(\"PRGn\", bins = values , domain =Map_data$mean_price)"
   ]
  },
  {
   "cell_type": "markdown",
   "id": "eb8f6d3e",
   "metadata": {},
   "source": [
    "We then try to display the UK property prices using these intervals based on the postcodes. "
   ]
  },
  {
   "cell_type": "code",
   "execution_count": null,
   "id": "e7bbd56d",
   "metadata": {},
   "outputs": [],
   "source": [
    "mapplot_mean <- leaflet(Map_data) %>% setView(lng=-2, lat=52.2783, zoom = 8) %>%\n",
    "  addProviderTiles(\"Stamen.TonerHybrid\")  %>%\n",
    "  addPolygons(fillColor = ~factpal(Map_data$mean_price),weight = 0.2,fillOpacity = 0.5, \n",
    "            smoothFactor = 0.2)%>%\n",
    "  addLegend(pal = factpal, \n",
    "            values = Map_data$mean_price, \n",
    "            title = \"Mean HP data\")\n",
    "\n",
    "mapplot_mean"
   ]
  },
  {
   "cell_type": "markdown",
   "id": "6f518859",
   "metadata": {
    "lines_to_next_cell": 0
   },
   "source": [
    "We now use Median instead of mean, as frequency of different properties might now display the true average value of property prices.Median is better for skewed distributions, so chosing median would gives us a better, more robust and a sensible plot. Median free's us form the disadvantage of means considering not just the values but also their occurences."
   ]
  },
  {
   "cell_type": "code",
   "execution_count": null,
   "id": "f410b302",
   "metadata": {},
   "outputs": [],
   "source": [
    "intervals = quantile(Map_data$median_price, probs = c(0.167,0.33,0.5,0.667,0.833,1),names = F ,na.rm = T)\n",
    "values <- append(intervals,0,0)\n",
    "factpal <- colorBin(\"PRGn\", bins = values , domain =Map_data$median_price)\n",
    "\n",
    "\n",
    "mapplot_median <- leaflet(Map_data) %>% setView(lng=-2, lat=52.2783, zoom = 8) %>%\n",
    "  addProviderTiles(\"Stamen.TonerHybrid\")  %>%\n",
    "  addPolygons(fillColor = ~factpal(Map_data$median_price),weight = 0.5,fillOpacity = 0.5,\n",
    "              smoothFactor = 0.25)%>%\n",
    "  addLegend(pal = factpal, \n",
    "            values = Map_data$median_price, \n",
    "             title = \"Median HP data\")\n",
    "mapplot_median\n"
   ]
  }
 ],
 "metadata": {
  "jupytext": {
   "cell_metadata_filter": "name,tags,-all",
   "main_language": "R",
   "notebook_metadata_filter": "-all"
  }
 },
 "nbformat": 4,
 "nbformat_minor": 5
}
